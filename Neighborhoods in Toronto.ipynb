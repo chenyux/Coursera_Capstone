{
    "nbformat_minor": 1, 
    "cells": [
        {
            "source": "# Part I", 
            "cell_type": "markdown", 
            "metadata": {}
        }, 
        {
            "execution_count": null, 
            "cell_type": "code", 
            "metadata": {}, 
            "outputs": [
                {
                    "output_type": "stream", 
                    "name": "stdout", 
                    "text": "Fetching package metadata .............\nSolving package specifications: .\n\n# All requested packages already installed.\n# packages in environment at /opt/conda/envs/DSX-Python35:\n#\ngeopy                     1.17.0                     py_0    conda-forge\nFetching package metadata .............\nSolving package specifications: .\n\n# All requested packages already installed.\n# packages in environment at /opt/conda/envs/DSX-Python35:\n#\nfolium                    0.5.0                      py_0    conda-forge\nFetching package metadata .............\nSolving package specifications: "
                }
            ], 
            "source": "# =============================================================================\n# Import libraries\n# =============================================================================\n\nimport numpy as np \nimport pandas as pd \npd.set_option('display.max_columns', None)\npd.set_option('display.max_rows', None)\n\nimport json\n\n!conda install -c conda-forge geopy --yes # uncomment this line if you haven't completed the Foursquare API lab\nfrom geopy.geocoders import Nominatim # convert an address into latitude and longitude values\n\nimport requests # library to handle requests\nfrom pandas.io.json import json_normalize # tranform JSON file into a pandas dataframe\n\n# Matplotlib and associated plotting modules\nimport matplotlib.cm as cm\nimport matplotlib.colors as colors\n\n# import k-means from clustering stage\nfrom sklearn.cluster import KMeans\n\n!conda install -c conda-forge folium=0.5.0 --yes # uncomment this line if you haven't completed the Foursquare API lab\nimport folium # map rendering library\n\n!conda install -c conda-forge beautifulsoup4 --yes\nfrom bs4 import BeautifulSoup\n\nprint('Libraries imported.')\n"
        }, 
        {
            "execution_count": null, 
            "cell_type": "code", 
            "metadata": {}, 
            "outputs": [], 
            "source": "# =============================================================================\n# Scrape from Wikipedia page: https://en.wikipedia.org/wiki/List_of_postal_codes_of_Canada:_M\n# =============================================================================\n\nwikipedia_page = requests.get('https://en.wikipedia.org/wiki/List_of_postal_codes_of_Canada:_M')\nsoup = BeautifulSoup(wikipedia_page.content, 'lxml')\n\nwikipedia_table = soup.find('table', class_ = 'wikitable sortable')\n\nheader = wikipedia_table.tbody.find('tr')\ncolumn_names = ['Postcode', 'Borough', 'Neighbourhood']\ndf = pd.DataFrame(columns=column_names)\n\nfor tr in header.find_next_siblings('tr'):\n    tds = tr.find_all('td')\n    df = df.append({'Postcode': tds[0].text,\n                    'Borough': tds[1].text,\n                    'Neighbourhood': tds[2].text}, ignore_index=True)\n"
        }, 
        {
            "execution_count": null, 
            "cell_type": "code", 
            "metadata": {}, 
            "outputs": [], 
            "source": "df.head"
        }, 
        {
            "source": "# Only process the cells that have an assigned borough. Ignore cells with a borough that is Not assigned.", 
            "cell_type": "markdown", 
            "metadata": {}
        }, 
        {
            "execution_count": null, 
            "cell_type": "code", 
            "metadata": {}, 
            "outputs": [], 
            "source": "df['Neighbourhood'] = df['Neighbourhood'].apply(lambda x: x.strip())\ndf = df[df['Borough']!='Not assigned']"
        }, 
        {
            "execution_count": null, 
            "cell_type": "code", 
            "metadata": {}, 
            "outputs": [], 
            "source": "df"
        }, 
        {
            "source": "# Combined neighborhoods into one row separated with a comma", 
            "cell_type": "markdown", 
            "metadata": {}
        }, 
        {
            "execution_count": null, 
            "cell_type": "code", 
            "metadata": {}, 
            "outputs": [], 
            "source": "df = df.groupby(['Postcode', 'Borough'])['Neighbourhood'].apply(', '.join).reset_index()\ndf"
        }, 
        {
            "source": "# If a cell has a borough but a Not assigned neighborhood, then the neighborhood will be the same as the borough", 
            "cell_type": "markdown", 
            "metadata": {}
        }, 
        {
            "execution_count": null, 
            "cell_type": "code", 
            "metadata": {}, 
            "outputs": [], 
            "source": "df.loc[df['Neighbourhood']=='Not assigned', 'Neighbourhood'] = df['Borough']\ndf"
        }, 
        {
            "source": "# In the last cell of your notebook, use the .shape method to print the number of rows of your dataframe.", 
            "cell_type": "markdown", 
            "metadata": {}
        }, 
        {
            "execution_count": null, 
            "cell_type": "code", 
            "metadata": {}, 
            "outputs": [], 
            "source": "df.shape"
        }, 
        {
            "source": "# Part II", 
            "cell_type": "markdown", 
            "metadata": {}
        }, 
        {
            "execution_count": null, 
            "cell_type": "code", 
            "metadata": {}, 
            "outputs": [], 
            "source": "df_geo = pd.read_csv ('http://cocl.us/Geospatial_data')\ndf_geo"
        }, 
        {
            "execution_count": null, 
            "cell_type": "code", 
            "metadata": {}, 
            "outputs": [], 
            "source": "print(df.columns)\nprint(df_geo.columns)\n\ndf.set_index('Postcode')\ndf_geo.set_index('Postal Code')\ndf2 = df.join(df_geo).drop('Postal Code', 1)\ndf2"
        }, 
        {
            "execution_count": null, 
            "cell_type": "code", 
            "metadata": {}, 
            "outputs": [], 
            "source": "df2.shape"
        }, 
        {
            "execution_count": null, 
            "cell_type": "code", 
            "metadata": {}, 
            "outputs": [], 
            "source": ""
        }
    ], 
    "metadata": {
        "kernelspec": {
            "display_name": "Python 3.5", 
            "name": "python3", 
            "language": "python"
        }, 
        "language_info": {
            "mimetype": "text/x-python", 
            "nbconvert_exporter": "python", 
            "version": "3.5.5", 
            "name": "python", 
            "file_extension": ".py", 
            "pygments_lexer": "ipython3", 
            "codemirror_mode": {
                "version": 3, 
                "name": "ipython"
            }
        }
    }, 
    "nbformat": 4
}